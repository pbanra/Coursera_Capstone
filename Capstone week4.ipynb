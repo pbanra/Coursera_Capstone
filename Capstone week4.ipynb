{
 "cells": [
  {
   "cell_type": "markdown",
   "metadata": {},
   "source": [
    "<H5>IBM DATA SCIENCE PROFESSIONAL CERTIFICATE\n",
    "            <h5> CAPSTONE PROJECT <h2>Open a new business in the city of Calgary\n",
    "    "
   ]
  },
  {
   "cell_type": "markdown",
   "metadata": {},
   "source": [
    "<h4> Introduction\n",
    "    "
   ]
  },
  {
   "cell_type": "markdown",
   "metadata": {},
   "source": [
    "Calgary, is one of the Canadian cosmopolitan cities famous for its status as the centre of Canada’s oil industry. It has consistently been recognized for its high quality of life. Calgary is a home for opportunities. People migrate to these beautiful city to establish new career and businesses  for a better lifestyle."
   ]
  },
  {
   "cell_type": "markdown",
   "metadata": {},
   "source": [
    "<h4> Business Problem"
   ]
  },
  {
   "cell_type": "markdown",
   "metadata": {},
   "source": [
    "The aim of this capstone project is to analyze the data of various neighborhoods in Calgary and its businesses to determine best locations to set up a new business. "
   ]
  },
  {
   "cell_type": "markdown",
   "metadata": {},
   "source": [
    "<h4>Target audience for this project"
   ]
  },
  {
   "cell_type": "markdown",
   "metadata": {},
   "source": [
    "Calgary is one of the fastest growing cities in Canada, with a population over 1.3 million. It is constantly developing new neighborhoods and inviting the investors to contribute to the growth of the city. This project would assist the investors and stakeholders to determine their industry for future investments."
   ]
  },
  {
   "cell_type": "markdown",
   "metadata": {},
   "source": [
    "<h4> Data required"
   ]
  },
  {
   "cell_type": "markdown",
   "metadata": {},
   "source": [
    "##### Data needed to provide the targeted insights:\n",
    "   ###### * List of neighborhoods in Calgary including new communities.\n",
    "   ###### * Geographical data of these neighborhoods, like latitude and longitude information to generate map for visualization.\n",
    "   ###### * Data of various businesses(venues) to apply machine learning methodology to produce insights to determine which businesses would be profitable to launch. "
   ]
  },
  {
   "cell_type": "markdown",
   "metadata": {},
   "source": [
    "<h4>Sources of Data"
   ]
  },
  {
   "cell_type": "markdown",
   "metadata": {},
   "source": [
    "1. Calgary Wikipedia : https://en.wikipedia.org/wiki/Calgary                            \n",
    "This data is used in listing the existing neighborhoods.\n",
    "2. Open data- City of Calgary : https://data.calgary.ca/browse?tags=open+data           \n",
    "This site is used in obtaining new neighborhoods and their communities.\n",
    "3. Foursquare API : https://foursquare.com/                                             \n",
    "Foursquare API is used to obtain latitude, longitudes and venue data for the different neighborhoods"
   ]
  }
 ],
 "metadata": {
  "kernelspec": {
   "display_name": "Python",
   "language": "python",
   "name": "conda-env-python-py"
  },
  "language_info": {
   "codemirror_mode": {
    "name": "ipython",
    "version": 3
   },
   "file_extension": ".py",
   "mimetype": "text/x-python",
   "name": "python",
   "nbconvert_exporter": "python",
   "pygments_lexer": "ipython3",
   "version": "3.6.7"
  }
 },
 "nbformat": 4,
 "nbformat_minor": 4
}
